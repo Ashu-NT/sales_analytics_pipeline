{
 "cells": [
  {
   "cell_type": "markdown",
   "id": "7c00d3c2",
   "metadata": {},
   "source": [
    "# Pipeline Orchestration Test\n",
    "This notebook tests the full orchestration of the sales analytics pipeline to ensure all modules work as intended."
   ]
  },
  {
   "cell_type": "markdown",
   "id": "786d83df",
   "metadata": {},
   "source": [
    "### Notebook for exploration, SQL queries, etc"
   ]
  },
  {
   "cell_type": "code",
   "execution_count": 11,
   "id": "f559fb4f",
   "metadata": {},
   "outputs": [
    {
     "name": "stderr",
     "output_type": "stream",
     "text": [
      "[2025-07-31 13:25:40] 17 - src.components.db_handler - INFO - Initializing PostgresDBHandler ....\n",
      "[2025-07-31 13:25:40] 31 - src.components.db_handler - INFO - Database connection established successfully.\n",
      "[2025-07-31 13:25:40] 54 - src.components.db_handler - INFO - SQL query executed successfully: SELECT * FROM sales_data\n",
      "                   WHERE money > 30\n",
      "                   ORDER BY datetime DESC\n"
     ]
    },
    {
     "data": {
      "text/html": [
       "<div>\n",
       "<style scoped>\n",
       "    .dataframe tbody tr th:only-of-type {\n",
       "        vertical-align: middle;\n",
       "    }\n",
       "\n",
       "    .dataframe tbody tr th {\n",
       "        vertical-align: top;\n",
       "    }\n",
       "\n",
       "    .dataframe thead th {\n",
       "        text-align: right;\n",
       "    }\n",
       "</style>\n",
       "<table border=\"1\" class=\"dataframe\">\n",
       "  <thead>\n",
       "    <tr style=\"text-align: right;\">\n",
       "      <th></th>\n",
       "      <th>date</th>\n",
       "      <th>datetime</th>\n",
       "      <th>cash_type</th>\n",
       "      <th>card</th>\n",
       "      <th>money</th>\n",
       "      <th>coffee_name</th>\n",
       "    </tr>\n",
       "  </thead>\n",
       "  <tbody>\n",
       "    <tr>\n",
       "      <th>0</th>\n",
       "      <td>2025-03-23</td>\n",
       "      <td>2025-03-23 18:11:38.635</td>\n",
       "      <td>card</td>\n",
       "      <td>ANON-0000-0000-1275</td>\n",
       "      <td>35.76</td>\n",
       "      <td>Latte</td>\n",
       "    </tr>\n",
       "    <tr>\n",
       "      <th>1</th>\n",
       "      <td>2025-03-23</td>\n",
       "      <td>2025-03-23 14:44:16.864</td>\n",
       "      <td>card</td>\n",
       "      <td>ANON-0000-0000-1315</td>\n",
       "      <td>35.76</td>\n",
       "      <td>Cocoa</td>\n",
       "    </tr>\n",
       "    <tr>\n",
       "      <th>2</th>\n",
       "      <td>2025-03-23</td>\n",
       "      <td>2025-03-23 14:43:37.362</td>\n",
       "      <td>card</td>\n",
       "      <td>ANON-0000-0000-1315</td>\n",
       "      <td>35.76</td>\n",
       "      <td>Cocoa</td>\n",
       "    </tr>\n",
       "    <tr>\n",
       "      <th>3</th>\n",
       "      <td>2025-03-23</td>\n",
       "      <td>2025-03-23 10:34:54.894</td>\n",
       "      <td>card</td>\n",
       "      <td>ANON-0000-0000-1158</td>\n",
       "      <td>35.76</td>\n",
       "      <td>Cappuccino</td>\n",
       "    </tr>\n",
       "    <tr>\n",
       "      <th>4</th>\n",
       "      <td>2025-03-23</td>\n",
       "      <td>2025-03-23 10:07:11.278</td>\n",
       "      <td>card</td>\n",
       "      <td>ANON-0000-0000-1196</td>\n",
       "      <td>35.76</td>\n",
       "      <td>Latte</td>\n",
       "    </tr>\n",
       "  </tbody>\n",
       "</table>\n",
       "</div>"
      ],
      "text/plain": [
       "         date                 datetime cash_type                 card  money  \\\n",
       "0  2025-03-23  2025-03-23 18:11:38.635      card  ANON-0000-0000-1275  35.76   \n",
       "1  2025-03-23  2025-03-23 14:44:16.864      card  ANON-0000-0000-1315  35.76   \n",
       "2  2025-03-23  2025-03-23 14:43:37.362      card  ANON-0000-0000-1315  35.76   \n",
       "3  2025-03-23  2025-03-23 10:34:54.894      card  ANON-0000-0000-1158  35.76   \n",
       "4  2025-03-23  2025-03-23 10:07:11.278      card  ANON-0000-0000-1196  35.76   \n",
       "\n",
       "  coffee_name  \n",
       "0       Latte  \n",
       "1       Cocoa  \n",
       "2       Cocoa  \n",
       "3  Cappuccino  \n",
       "4       Latte  "
      ]
     },
     "execution_count": 11,
     "metadata": {},
     "output_type": "execute_result"
    }
   ],
   "source": [
    "import os\n",
    "import sys\n",
    "from src.components.db_handler import PostgresDBHandler\n",
    "\n",
    "project_root = os.path.abspath(\"..\")\n",
    "if project_root not in sys.path:\n",
    "    sys.path.insert(0, project_root)\n",
    "\n",
    "db = PostgresDBHandler(os.getenv('DB_URL'))\n",
    "\n",
    "df = db.read_query(\"\"\"SELECT * FROM sales_data\n",
    "                   WHERE money > 30\n",
    "                   ORDER BY datetime DESC\"\"\")\n",
    "df.head()"
   ]
  }
 ],
 "metadata": {
  "kernelspec": {
   "display_name": "pysparkenv",
   "language": "python",
   "name": "python3"
  },
  "language_info": {
   "codemirror_mode": {
    "name": "ipython",
    "version": 3
   },
   "file_extension": ".py",
   "mimetype": "text/x-python",
   "name": "python",
   "nbconvert_exporter": "python",
   "pygments_lexer": "ipython3",
   "version": "3.13.5"
  }
 },
 "nbformat": 4,
 "nbformat_minor": 5
}
